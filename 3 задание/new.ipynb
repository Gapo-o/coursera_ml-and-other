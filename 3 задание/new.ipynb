{
 "cells": [
  {
   "cell_type": "code",
   "execution_count": 1,
   "metadata": {
    "pycharm": {
     "name": "#%%\n"
    }
   },
   "outputs": [
    {
     "name": "stdout",
     "output_type": "stream",
     "text": [
      "     Type  Alcohol  Malic acid   Ash  Alcalinity of ash  Magnesium  \\\n",
      "0       1    14.23        1.71  2.43               15.6        127   \n",
      "1       1    13.20        1.78  2.14               11.2        100   \n",
      "2       1    13.16        2.36  2.67               18.6        101   \n",
      "3       1    14.37        1.95  2.50               16.8        113   \n",
      "4       1    13.24        2.59  2.87               21.0        118   \n",
      "..    ...      ...         ...   ...                ...        ...   \n",
      "173     3    13.71        5.65  2.45               20.5         95   \n",
      "174     3    13.40        3.91  2.48               23.0        102   \n",
      "175     3    13.27        4.28  2.26               20.0        120   \n",
      "176     3    13.17        2.59  2.37               20.0        120   \n",
      "177     3    14.13        4.10  2.74               24.5         96   \n",
      "\n",
      "     Total Phenols  Flavanoids  Nonflavanoid phenols  Proanthocyanins  \\\n",
      "0             2.80        3.06                  0.28             2.29   \n",
      "1             2.65        2.76                  0.26             1.28   \n",
      "2             2.80        3.24                  0.30             2.81   \n",
      "3             3.85        3.49                  0.24             2.18   \n",
      "4             2.80        2.69                  0.39             1.82   \n",
      "..             ...         ...                   ...              ...   \n",
      "173           1.68        0.61                  0.52             1.06   \n",
      "174           1.80        0.75                  0.43             1.41   \n",
      "175           1.59        0.69                  0.43             1.35   \n",
      "176           1.65        0.68                  0.53             1.46   \n",
      "177           2.05        0.76                  0.56             1.35   \n",
      "\n",
      "     Color intensity   Hue  OD280/OD315  Proline  \n",
      "0               5.64  1.04         3.92     1065  \n",
      "1               4.38  1.05         3.40     1050  \n",
      "2               5.68  1.03         3.17     1185  \n",
      "3               7.80  0.86         3.45     1480  \n",
      "4               4.32  1.04         2.93      735  \n",
      "..               ...   ...          ...      ...  \n",
      "173             7.70  0.64         1.74      740  \n",
      "174             7.30  0.70         1.56      750  \n",
      "175            10.20  0.59         1.56      835  \n",
      "176             9.30  0.60         1.62      840  \n",
      "177             9.20  0.61         1.60      560  \n",
      "\n",
      "[178 rows x 14 columns]\n"
     ]
    }
   ],
   "source": [
    "from copy import deepcopy\n",
    "import pandas\n",
    "import numpy as np\n",
    "from sklearn import preprocessing\n",
    "from sklearn.model_selection import KFold, cross_val_score\n",
    "from sklearn.neighbors import KNeighborsClassifier\n",
    "\n",
    "df = pandas.read_csv('wine.data')\n",
    "   \n",
    "print(df)\n"
   ]
  },
  {
   "cell_type": "code",
   "execution_count": 2,
   "outputs": [
    {
     "name": "stdout",
     "output_type": "stream",
     "text": [
      "     Alcohol  Malic acid   Ash  Alcalinity of ash  Magnesium  Total Phenols  \\\n",
      "0      14.23        1.71  2.43               15.6        127           2.80   \n",
      "1      13.20        1.78  2.14               11.2        100           2.65   \n",
      "2      13.16        2.36  2.67               18.6        101           2.80   \n",
      "3      14.37        1.95  2.50               16.8        113           3.85   \n",
      "4      13.24        2.59  2.87               21.0        118           2.80   \n",
      "..       ...         ...   ...                ...        ...            ...   \n",
      "173    13.71        5.65  2.45               20.5         95           1.68   \n",
      "174    13.40        3.91  2.48               23.0        102           1.80   \n",
      "175    13.27        4.28  2.26               20.0        120           1.59   \n",
      "176    13.17        2.59  2.37               20.0        120           1.65   \n",
      "177    14.13        4.10  2.74               24.5         96           2.05   \n",
      "\n",
      "     Flavanoids  Nonflavanoid phenols  Proanthocyanins  Color intensity   Hue  \\\n",
      "0          3.06                  0.28             2.29             5.64  1.04   \n",
      "1          2.76                  0.26             1.28             4.38  1.05   \n",
      "2          3.24                  0.30             2.81             5.68  1.03   \n",
      "3          3.49                  0.24             2.18             7.80  0.86   \n",
      "4          2.69                  0.39             1.82             4.32  1.04   \n",
      "..          ...                   ...              ...              ...   ...   \n",
      "173        0.61                  0.52             1.06             7.70  0.64   \n",
      "174        0.75                  0.43             1.41             7.30  0.70   \n",
      "175        0.69                  0.43             1.35            10.20  0.59   \n",
      "176        0.68                  0.53             1.46             9.30  0.60   \n",
      "177        0.76                  0.56             1.35             9.20  0.61   \n",
      "\n",
      "     OD280/OD315  Proline  \n",
      "0           3.92     1065  \n",
      "1           3.40     1050  \n",
      "2           3.17     1185  \n",
      "3           3.45     1480  \n",
      "4           2.93      735  \n",
      "..           ...      ...  \n",
      "173         1.74      740  \n",
      "174         1.56      750  \n",
      "175         1.56      835  \n",
      "176         1.62      840  \n",
      "177         1.60      560  \n",
      "\n",
      "[178 rows x 13 columns]\n",
      "     Type\n",
      "0       1\n",
      "1       1\n",
      "2       1\n",
      "3       1\n",
      "4       1\n",
      "..    ...\n",
      "173     3\n",
      "174     3\n",
      "175     3\n",
      "176     3\n",
      "177     3\n",
      "\n",
      "[178 rows x 1 columns]\n"
     ]
    }
   ],
   "source": [
    "df1 = deepcopy(df)\n",
    "\n",
    "columns = [\"Alcohol\", \"Malic acid\", \"acid\", \"Ash\", \"Alcalinity of ash\", \"Magnesium\", \"Total Phenols\",\n",
    "           \"Flavanoids\", \"Nonflavanoid phenols\", \"Proanthocyanins\", \"Color intensity\", \"Hue\", \"OD280/OD315\",\n",
    "           \"Proline\"]  \n",
    "\n",
    "df1.drop(columns, axis = 1, inplace = True, errors = 'ignore')\n",
    "df.drop('Type', axis = 1, inplace=True, errors='ignore')\n",
    "\n",
    "print (df)\n",
    "print (df1)"
   ],
   "metadata": {
    "collapsed": false,
    "pycharm": {
     "name": "#%%\n"
    }
   }
  },
  {
   "cell_type": "code",
   "execution_count": 3,
   "outputs": [],
   "source": [
    "kf = KFold(n_splits=5, shuffle=True, random_state=42)"
   ],
   "metadata": {
    "collapsed": false,
    "pycharm": {
     "name": "#%%\n"
    }
   }
  },
  {
   "cell_type": "code",
   "execution_count": 5,
   "outputs": [
    {
     "name": "stdout",
     "output_type": "stream",
     "text": [
      "0.7304761904761905\n",
      "1\n"
     ]
    }
   ],
   "source": [
    "# x_train, x_test, y_train, y_test = train_test_split( df, df1, shuffle=True, random_state = 42)\n",
    "    \n",
    "k1 = 0\n",
    "for i in range (1, 51):\n",
    "    knn = KNeighborsClassifier (n_neighbors = i)\n",
    "\n",
    "    result = cross_val_score(knn, df, np.ravel(df1, order = 'C'), cv = kf, scoring = 'accuracy')\n",
    "    \n",
    "    k = np.mean(result)\n",
    "    if (k >= k1):\n",
    "        k1 = k\n",
    "        print(k1)\n",
    "        print(i)\n",
    "    "
   ],
   "metadata": {
    "collapsed": false,
    "pycharm": {
     "name": "#%%\n"
    }
   }
  },
  {
   "cell_type": "code",
   "execution_count": null,
   "outputs": [],
   "source": [
    "x_scaled = preprocessing.scale(df)\n",
    "print (x_scaled)"
   ],
   "metadata": {
    "collapsed": false,
    "pycharm": {
     "name": "#%%\n"
    }
   }
  },
  {
   "cell_type": "code",
   "execution_count": null,
   "outputs": [],
   "source": [
    " \n",
    "k1 = 0\n",
    "for i in range (1, 51):\n",
    "    knn = KNeighborsClassifier (n_neighbors = i)\n",
    "\n",
    "    result = cross_val_score(knn, x_scaled, np.ravel(df1, order = 'C'), cv = kf, scoring = 'accuracy')\n",
    "    \n",
    "    k = np.mean(result)\n",
    "    if (k >= k1):\n",
    "        k1 = k\n",
    "        print(k1)\n",
    "        print(i)"
   ],
   "metadata": {
    "collapsed": false,
    "pycharm": {
     "name": "#%%\n"
    }
   }
  }
 ],
 "metadata": {
  "kernelspec": {
   "display_name": "Python 3",
   "language": "python",
   "name": "python3"
  },
  "language_info": {
   "codemirror_mode": {
    "name": "ipython",
    "version": 3
   },
   "file_extension": ".py",
   "mimetype": "text/x-python",
   "name": "python",
   "nbconvert_exporter": "python",
   "pygments_lexer": "ipython3",
   "version": "3.6.9"
  }
 },
 "nbformat": 4,
 "nbformat_minor": 1
}