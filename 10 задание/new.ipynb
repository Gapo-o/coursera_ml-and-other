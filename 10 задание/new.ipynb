{
 "cells": [
  {
   "cell_type": "code",
   "execution_count": 1,
   "outputs": [
    {
     "name": "stdout",
     "output_type": "stream",
     "text": [
      "                                         FullDescription LocationNormalized  \\\n",
      "0      International Sales Manager London ****k  ****...             London   \n",
      "1      An ideal opportunity for an individual that ha...             London   \n",
      "2      Online Content and Brand Manager// Luxury Reta...  South East London   \n",
      "3      A great local marketleader is seeking a perman...            Dereham   \n",
      "4      Registered Nurse / RGN  Nursing Home for Young...   Sutton Coldfield   \n",
      "...                                                  ...                ...   \n",
      "59995  As a result of continued growth, First Class S...        Whitley Bay   \n",
      "59996  PHP / MVC Web Developer  MacclesfieldCirca ***...       Macclesfield   \n",
      "59997  Staff Nurse, Nursing Home, Baldock White Recru...            Baldock   \n",
      "59998  This is one of the best agency side opportunit...           The City   \n",
      "59999  Must have CSCS card must have asbestos awarene...             London   \n",
      "\n",
      "      ContractTime  SalaryNormalized  \n",
      "0        permanent             33000  \n",
      "1        permanent             50000  \n",
      "2        permanent             40000  \n",
      "3        permanent             22500  \n",
      "4              NaN             20355  \n",
      "...            ...               ...  \n",
      "59995     contract             26400  \n",
      "59996    permanent             26000  \n",
      "59997          NaN             24500  \n",
      "59998    permanent             65000  \n",
      "59999          NaN             23040  \n",
      "\n",
      "[60000 rows x 4 columns]\n"
     ]
    }
   ],
   "source": [
    "from copy import deepcopy\n",
    "import pandas as pd\n",
    "import numpy as np\n",
    "import math\n",
    "import sklearn\n",
    "from sklearn.feature_extraction import DictVectorizer\n",
    "from sklearn.feature_extraction.text import TfidfVectorizer\n",
    "from scipy.sparse import hstack\n",
    "from sklearn.linear_model import Ridge\n",
    "\n",
    "df = pd.read_csv('salary-train.csv')\n",
    "data = pd.read_csv('salary-test-mini.csv')\n",
    "\n",
    "print (df)"
   ],
   "metadata": {
    "collapsed": false,
    "pycharm": {
     "name": "#%%\n"
    }
   }
  },
  {
   "cell_type": "code",
   "execution_count": 2,
   "outputs": [],
   "source": [
    "df['FullDescription'] = df['FullDescription'].str.lower()\n",
    "\n",
    "df['FullDescription'] = df['FullDescription'].replace('[^a-zA-Z0-9]', ' ', regex = True)\n",
    "\n",
    "# print (df)"
   ],
   "metadata": {
    "collapsed": false,
    "pycharm": {
     "name": "#%%\n"
    }
   }
  },
  {
   "cell_type": "code",
   "execution_count": 3,
   "outputs": [],
   "source": [
    "vectorized = TfidfVectorizer(min_df=5)\n",
    "x = vectorized.fit_transform(df['FullDescription'])\n",
    "y = df['SalaryNormalized']\n",
    "\n",
    "x_test = vectorized.transform (data['FullDescription'])\n",
    "y_test = data['SalaryNormalized']\n",
    "\n",
    "# print(vectorized.get_feature_names())"
   ],
   "metadata": {
    "collapsed": false,
    "pycharm": {
     "name": "#%%\n"
    }
   }
  },
  {
   "cell_type": "code",
   "execution_count": 4,
   "outputs": [],
   "source": [
    "df['LocationNormalized'].fillna('nan', inplace=True)\n",
    "df['ContractTime'].fillna('nan', inplace=True)\n",
    "\n",
    "# print (df)"
   ],
   "metadata": {
    "collapsed": false,
    "pycharm": {
     "name": "#%%\n"
    }
   }
  },
  {
   "cell_type": "code",
   "execution_count": 5,
   "outputs": [],
   "source": [
    "enc = DictVectorizer()\n",
    "x_train_categ = enc.fit_transform(df[['LocationNormalized', 'ContractTime']].to_dict('records'))\n",
    "x_test_categ = enc.transform(data[['LocationNormalized', 'ContractTime']].to_dict('records'))"
   ],
   "metadata": {
    "collapsed": false,
    "pycharm": {
     "name": "#%%\n"
    }
   }
  },
  {
   "cell_type": "code",
   "execution_count": 6,
   "outputs": [
    {
     "name": "stdout",
     "output_type": "stream",
     "text": [
      "[56572.6261166  37139.06997341]\n"
     ]
    }
   ],
   "source": [
    "x_for_train = hstack([x, x_train_categ])\n",
    "x_for_test = hstack([x_test, x_test_categ])\n",
    "\n",
    "ridge_reg = Ridge (alpha=1, random_state=241)\n",
    "\n",
    "ridge_reg.fit(x_for_train, y)\n",
    "\n",
    "print (ridge_reg.predict(x_for_test))\n"
   ],
   "metadata": {
    "collapsed": false,
    "pycharm": {
     "name": "#%%\n"
    }
   }
  }
 ],
 "metadata": {
  "kernelspec": {
   "name": "python3",
   "language": "python",
   "display_name": "Python 3"
  },
  "language_info": {
   "codemirror_mode": {
    "name": "ipython",
    "version": 3
   },
   "file_extension": ".py",
   "mimetype": "text/x-python",
   "name": "python",
   "nbconvert_exporter": "python",
   "pygments_lexer": "ipython3",
   "version": "3.6.9"
  }
 },
 "nbformat": 4,
 "nbformat_minor": 1
}