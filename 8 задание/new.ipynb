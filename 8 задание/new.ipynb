{
 "cells": [
  {
   "cell_type": "code",
   "execution_count": 4,
   "outputs": [
    {
     "name": "stdout",
     "text": [
      "0.9268571428571428\n",
      "0.9362857142857142\n"
     ],
     "output_type": "stream"
    }
   ],
   "source": [
    "import pandas as pd\n",
    "import numpy as np\n",
    "import math\n",
    "from sklearn.metrics import roc_auc_score\n",
    "\n",
    "df = pd.read_csv('data-logistic.csv', header=None)\n",
    "\n",
    "X = df.values[:, 1:]\n",
    "y = df.values[:, :1].T[0]\n",
    "\n",
    "\n",
    "def sigmoid(X):\n",
    "    return 1.0/(1 + math.exp(X))\n",
    "\n",
    "\n",
    "def distance (a,b):\n",
    "    return np.sqrt(np.square(a[0]-b[0]) + np.square(a[1]-b[1]))\n",
    "\n",
    "\n",
    "def log_regression(X, y, k, w, C, epsilon, max_iter):\n",
    "    w1, w2 = w\n",
    "    for j in range(max_iter):\n",
    "        w1new = w1 + k * np.mean(y * X[:,0] * (1- (1./(1+np.exp(-y*(w1*X[:,0] + w2 * X[:,1])))))) - k*C*w1\n",
    "        w2new = w2 + k * np.mean(y * X[:,1] * (1- (1./(1+np.exp(-y*(w1*X[:,0] + w2 * X[:,1])))))) - k*C*w2\n",
    "        if distance((w1new, w2new), (w1,w2)) < epsilon:\n",
    "            break\n",
    "        w1, w2 = w1new, w2new\n",
    "\n",
    "    predictions = []\n",
    "\n",
    "    for i in range(len(X)):\n",
    "        t1 = -w1*X[i, 0] - w2*X[i, 1]\n",
    "        s = sigmoid(t1)\n",
    "        predictions.append(s)\n",
    "    return predictions\n",
    "\n",
    "\n",
    "p0 = log_regression(X, y, 0.1, [0.0, 0.0], 0, 0.00001, 10000)\n",
    "p1 = log_regression(X, y, 0.1, [0.0, 0.0], 10, 0.00001, 10000)\n",
    "\n",
    "print(roc_auc_score(y, p0))\n",
    "print(roc_auc_score(y, p1))\n",
    "\n"
   ],
   "metadata": {
    "collapsed": false,
    "pycharm": {
     "name": "#%%\n",
     "is_executing": false
    }
   }
  }
 ],
 "metadata": {
  "kernelspec": {
   "name": "python3",
   "language": "python",
   "display_name": "Python 3"
  },
  "language_info": {
   "codemirror_mode": {
    "name": "ipython",
    "version": 3
   },
   "file_extension": ".py",
   "mimetype": "text/x-python",
   "name": "python",
   "nbconvert_exporter": "python",
   "pygments_lexer": "ipython3",
   "version": "3.6.9"
  },
  "pycharm": {
   "stem_cell": {
    "cell_type": "raw",
    "source": [],
    "metadata": {
     "collapsed": false
    }
   }
  }
 },
 "nbformat": 4,
 "nbformat_minor": 1
}