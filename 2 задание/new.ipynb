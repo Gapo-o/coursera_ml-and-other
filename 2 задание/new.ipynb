{
 "cells": [
  {
   "cell_type": "code",
   "execution_count": 1,
   "metadata": {
    "pycharm": {
     "name": "#%%\n",
     "is_executing": false
    }
   },
   "outputs": [
    {
     "name": "stdout",
     "text": [
      "             Survived  Pclass  \\\n",
      "PassengerId                     \n",
      "1                   0       3   \n",
      "2                   1       1   \n",
      "3                   1       3   \n",
      "4                   1       1   \n",
      "5                   0       3   \n",
      "...               ...     ...   \n",
      "887                 0       2   \n",
      "888                 1       1   \n",
      "889                 0       3   \n",
      "890                 1       1   \n",
      "891                 0       3   \n",
      "\n",
      "                                                          Name     Sex   Age  \\\n",
      "PassengerId                                                                    \n",
      "1                                      Braund, Mr. Owen Harris    male  22.0   \n",
      "2            Cumings, Mrs. John Bradley (Florence Briggs Th...  female  38.0   \n",
      "3                                       Heikkinen, Miss. Laina  female  26.0   \n",
      "4                 Futrelle, Mrs. Jacques Heath (Lily May Peel)  female  35.0   \n",
      "5                                     Allen, Mr. William Henry    male  35.0   \n",
      "...                                                        ...     ...   ...   \n",
      "887                                      Montvila, Rev. Juozas    male  27.0   \n",
      "888                               Graham, Miss. Margaret Edith  female  19.0   \n",
      "889                   Johnston, Miss. Catherine Helen \"Carrie\"  female   NaN   \n",
      "890                                      Behr, Mr. Karl Howell    male  26.0   \n",
      "891                                        Dooley, Mr. Patrick    male  32.0   \n",
      "\n",
      "             SibSp  Parch            Ticket     Fare Cabin Embarked  \n",
      "PassengerId                                                          \n",
      "1                1      0         A/5 21171   7.2500   NaN        S  \n",
      "2                1      0          PC 17599  71.2833   C85        C  \n",
      "3                0      0  STON/O2. 3101282   7.9250   NaN        S  \n",
      "4                1      0            113803  53.1000  C123        S  \n",
      "5                0      0            373450   8.0500   NaN        S  \n",
      "...            ...    ...               ...      ...   ...      ...  \n",
      "887              0      0            211536  13.0000   NaN        S  \n",
      "888              0      0            112053  30.0000   B42        S  \n",
      "889              1      2        W./C. 6607  23.4500   NaN        S  \n",
      "890              0      0            111369  30.0000  C148        C  \n",
      "891              0      0            370376   7.7500   NaN        Q  \n",
      "\n",
      "[891 rows x 11 columns]\n"
     ],
     "output_type": "stream"
    }
   ],
   "source": [
    "from copy import deepcopy\n",
    "import pandas\n",
    "import numpy as np\n",
    "from sklearn.model_selection import train_test_split\n",
    "from sklearn.tree import DecisionTreeClassifier\n",
    "\n",
    "data = pandas.read_csv('titanic.csv', index_col = 'PassengerId')\n",
    "   \n",
    "print(data)"
   ]
  },
  {
   "cell_type": "code",
   "execution_count": 9,
   "outputs": [
    {
     "name": "stdout",
     "text": [
      "             Pclass     Sex   Age     Fare\n",
      "PassengerId                               \n",
      "1                 3    male  22.0   7.2500\n",
      "2                 1  female  38.0  71.2833\n",
      "3                 3  female  26.0   7.9250\n",
      "4                 1  female  35.0  53.1000\n",
      "5                 3    male  35.0   8.0500\n",
      "...             ...     ...   ...      ...\n",
      "887               2    male  27.0  13.0000\n",
      "888               1  female  19.0  30.0000\n",
      "889               3  female   NaN  23.4500\n",
      "890               1    male  26.0  30.0000\n",
      "891               3    male  32.0   7.7500\n",
      "\n",
      "[891 rows x 4 columns]\n",
      "             Survived   Age\n",
      "PassengerId                \n",
      "1                   0  22.0\n",
      "2                   1  38.0\n",
      "3                   1  26.0\n",
      "4                   1  35.0\n",
      "5                   0  35.0\n",
      "...               ...   ...\n",
      "887                 0  27.0\n",
      "888                 1  19.0\n",
      "889                 0   NaN\n",
      "890                 1  26.0\n",
      "891                 0  32.0\n",
      "\n",
      "[891 rows x 2 columns]\n"
     ],
     "output_type": "stream"
    }
   ],
   "source": [
    "df = deepcopy(data)\n",
    "df1 = deepcopy(data)\n",
    "\n",
    "col = ['PassengerId', 'Pclass', 'Name', 'Sex', 'SibSp', 'Parch', 'Ticket', 'Fare', 'Cabin', 'Embarked']\n",
    "columns = ['PassengerId', 'Survived', 'Name', 'SibSp', 'Parch', 'Ticket','Cabin', 'Embarked']\n",
    "\n",
    "df.drop(columns, axis = 1, inplace = True, errors = 'ignore')\n",
    "df1.drop(col, axis = 1, inplace = True, errors = 'ignore')\n",
    "\n",
    "\n",
    "print(df)\n",
    "print(df1)"
   ],
   "metadata": {
    "collapsed": false,
    "pycharm": {
     "name": "#%%\n",
     "is_executing": false
    }
   }
  },
  {
   "cell_type": "code",
   "execution_count": 10,
   "outputs": [
    {
     "name": "stdout",
     "text": [
      "             Pclass  Sex   Age     Fare\n",
      "PassengerId                            \n",
      "1                 3    1  22.0   7.2500\n",
      "2                 1    0  38.0  71.2833\n",
      "3                 3    0  26.0   7.9250\n",
      "4                 1    0  35.0  53.1000\n",
      "5                 3    1  35.0   8.0500\n",
      "...             ...  ...   ...      ...\n",
      "887               2    1  27.0  13.0000\n",
      "888               1    0  19.0  30.0000\n",
      "889               3    0   NaN  23.4500\n",
      "890               1    1  26.0  30.0000\n",
      "891               3    1  32.0   7.7500\n",
      "\n",
      "[891 rows x 4 columns]\n"
     ],
     "output_type": "stream"
    }
   ],
   "source": [
    "df.Sex.replace (to_replace = dict(female = 0, male = 1), inplace = True)\n",
    "\n",
    "print(df)"
   ],
   "metadata": {
    "collapsed": false,
    "pycharm": {
     "name": "#%%\n",
     "is_executing": false
    }
   }
  },
  {
   "cell_type": "code",
   "execution_count": 11,
   "outputs": [
    {
     "name": "stdout",
     "text": [
      "             Pclass  Sex   Age     Fare\n",
      "PassengerId                            \n",
      "1                 3    1  22.0   7.2500\n",
      "2                 1    0  38.0  71.2833\n",
      "3                 3    0  26.0   7.9250\n",
      "4                 1    0  35.0  53.1000\n",
      "5                 3    1  35.0   8.0500\n",
      "...             ...  ...   ...      ...\n",
      "886               3    0  39.0  29.1250\n",
      "887               2    1  27.0  13.0000\n",
      "888               1    0  19.0  30.0000\n",
      "890               1    1  26.0  30.0000\n",
      "891               3    1  32.0   7.7500\n",
      "\n",
      "[714 rows x 4 columns]\n",
      "             Survived\n",
      "PassengerId          \n",
      "1                   0\n",
      "2                   1\n",
      "3                   1\n",
      "4                   1\n",
      "5                   0\n",
      "...               ...\n",
      "886                 0\n",
      "887                 0\n",
      "888                 1\n",
      "890                 1\n",
      "891                 0\n",
      "\n",
      "[714 rows x 1 columns]\n"
     ],
     "output_type": "stream"
    }
   ],
   "source": [
    "df = df[~df['Age'].isnull()]\n",
    "\n",
    "df1 = df1[~df1['Age'].isnull()]\n",
    "\n",
    "df1.drop(['Age'], axis = 1, inplace = True, errors = 'ignore')\n",
    "\n",
    "print (df)\n",
    "print(df1)\n"
   ],
   "metadata": {
    "collapsed": false,
    "pycharm": {
     "name": "#%%\n",
     "is_executing": false
    }
   }
  },
  {
   "cell_type": "code",
   "execution_count": 24,
   "outputs": [
    {
     "name": "stdout",
     "text": [
      "DecisionTreeClassifier(ccp_alpha=0.0, class_weight=None, criterion='gini',\n",
      "                       max_depth=None, max_features=None, max_leaf_nodes=None,\n",
      "                       min_impurity_decrease=0.0, min_impurity_split=None,\n",
      "                       min_samples_leaf=1, min_samples_split=2,\n",
      "                       min_weight_fraction_leaf=0.0, presort='deprecated',\n",
      "                       random_state=241, splitter='best')\n"
     ],
     "output_type": "stream"
    }
   ],
   "source": [
    "x_train, x_test, y_train, y_test = train_test_split (df, df1, random_state = 241)\n",
    "\n",
    "# \n",
    "# print (x_train)\n",
    "# \n",
    "# print (x_test)\n",
    "# \n",
    "# print (y_train)\n",
    "# \n",
    "# print (y_test)\n",
    "\n",
    "tree = DecisionTreeClassifier(random_state=241)\n",
    "\n",
    "tree.fit(x_train, y_train)\n",
    "\n",
    "print (tree)\n",
    "\n",
    "# tree = DecisionTreeClassifier(random_state=241)\n",
    "# \n",
    "# tree.fit(df, df1)\n",
    "# \n",
    "# importance = tree.feature_importances_\n",
    "# \n",
    "# print (importance)"
   ],
   "metadata": {
    "collapsed": false,
    "pycharm": {
     "name": "#%%\n",
     "is_executing": false
    }
   }
  },
  {
   "cell_type": "code",
   "execution_count": 25,
   "outputs": [
    {
     "name": "stdout",
     "text": [
      "[0.13462295 0.28415953 0.25618518 0.32503234]\n"
     ],
     "output_type": "stream"
    }
   ],
   "source": [
    "importance = tree.feature_importances_\n",
    "\n",
    "print (importance)\n",
    "\n",
    "\n",
    "\n"
   ],
   "metadata": {
    "collapsed": false,
    "pycharm": {
     "name": "#%%\n",
     "is_executing": false
    }
   }
  }
 ],
 "metadata": {
  "kernelspec": {
   "display_name": "Python 3",
   "language": "python",
   "name": "python3"
  },
  "language_info": {
   "codemirror_mode": {
    "name": "ipython",
    "version": 3
   },
   "file_extension": ".py",
   "mimetype": "text/x-python",
   "name": "python",
   "nbconvert_exporter": "python",
   "pygments_lexer": "ipython3",
   "version": "3.6.9"
  },
  "pycharm": {
   "stem_cell": {
    "cell_type": "raw",
    "source": [],
    "metadata": {
     "collapsed": false
    }
   }
  }
 },
 "nbformat": 4,
 "nbformat_minor": 1
}