{
 "cells": [
  {
   "cell_type": "code",
   "execution_count": 1,
   "metadata": {
    "pycharm": {
     "name": "#%%\n"
    }
   },
   "outputs": [
    {
     "name": "stdout",
     "output_type": "stream",
     "text": [
      "   0     1     2\n",
      "0  0  0.70  0.29\n",
      "1  1  0.23  0.55\n",
      "2  0  0.72  0.42\n",
      "3  0  0.98  0.68\n",
      "4  0  0.48  0.39\n",
      "5  1  0.34  0.73\n",
      "6  0  0.44  0.06\n",
      "7  1  0.40  0.74\n",
      "8  0  0.18  0.18\n",
      "9  1  0.53  0.53\n",
      "      1     2\n",
      "0  0.70  0.29\n",
      "1  0.23  0.55\n",
      "2  0.72  0.42\n",
      "3  0.98  0.68\n",
      "4  0.48  0.39\n",
      "5  0.34  0.73\n",
      "6  0.44  0.06\n",
      "7  0.40  0.74\n",
      "8  0.18  0.18\n",
      "9  0.53  0.53\n",
      "   0\n",
      "0  0\n",
      "1  1\n",
      "2  0\n",
      "3  0\n",
      "4  0\n",
      "5  1\n",
      "6  0\n",
      "7  1\n",
      "8  0\n",
      "9  1\n"
     ]
    }
   ],
   "source": [
    "from copy import deepcopy\n",
    "import pandas as pd\n",
    "import numpy as np\n",
    "import sklearn\n",
    "\n",
    "from sklearn.svm import SVC\n",
    "\n",
    "data = pd.read_csv(\"svm-data.csv\")\n",
    "\n",
    "print(data)\n",
    "\n",
    "df = deepcopy(data)\n",
    "df_value = deepcopy(data)\n",
    "\n",
    "col = [\"0\"]\n",
    "columns = [\"1\", \"2\"]\n",
    "\n",
    "df.drop(col, axis = 1, inplace = True, errors = 'ignore')\n",
    "df_value.drop(columns, axis=1, inplace=True, errors='ignore')\n",
    "\n",
    "print (df)\n",
    "print (df_value)\n"
   ]
  },
  {
   "cell_type": "code",
   "execution_count": 2,
   "outputs": [
    {
     "name": "stdout",
     "output_type": "stream",
     "text": [
      "[3 4 9]\n"
     ]
    },
    {
     "name": "stderr",
     "output_type": "stream",
     "text": [
      "/home/gapo_o/Documents/shad/venv/lib/python3.8/site-packages/sklearn/utils/validation.py:73: DataConversionWarning: A column-vector y was passed when a 1d array was expected. Please change the shape of y to (n_samples, ), for example using ravel().\n",
      "  return f(**kwargs)\n"
     ]
    }
   ],
   "source": [
    "clf = SVC(C=100000, random_state=241, kernel='linear')\n",
    "\n",
    "otv = clf.fit(df, df_value)\n",
    "\n",
    "print (otv.support_)\n"
   ],
   "metadata": {
    "collapsed": false,
    "pycharm": {
     "name": "#%%\n"
    }
   }
  }
 ],
 "metadata": {
  "kernelspec": {
   "display_name": "Python 3",
   "language": "python",
   "name": "python3"
  },
  "language_info": {
   "codemirror_mode": {
    "name": "ipython",
    "version": 3
   },
   "file_extension": ".py",
   "mimetype": "text/x-python",
   "name": "python",
   "nbconvert_exporter": "python",
   "pygments_lexer": "ipython3",
   "version": "3.6.9"
  },
  "pycharm": {
   "stem_cell": {
    "cell_type": "raw",
    "source": [],
    "metadata": {
     "collapsed": false
    }
   }
  }
 },
 "nbformat": 4,
 "nbformat_minor": 1
}