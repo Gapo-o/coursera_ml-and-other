{
 "cells": [
  {
   "cell_type": "code",
   "execution_count": 3,
   "outputs": [
    {
     "ename": "ModuleNotFoundError",
     "evalue": "No module named 'pytest'",
     "output_type": "error",
     "traceback": [
      "\u001B[0;31m---------------------------------------------------------------------------\u001B[0m",
      "\u001B[0;31mModuleNotFoundError\u001B[0m                       Traceback (most recent call last)",
      "\u001B[0;32m<ipython-input-3-c283daa3d9c8>\u001B[0m in \u001B[0;36m<module>\u001B[0;34m\u001B[0m\n\u001B[1;32m      1\u001B[0m \u001B[0mget_ipython\u001B[0m\u001B[0;34m(\u001B[0m\u001B[0;34m)\u001B[0m\u001B[0;34m.\u001B[0m\u001B[0mrun_line_magic\u001B[0m\u001B[0;34m(\u001B[0m\u001B[0;34m'matplotlib'\u001B[0m\u001B[0;34m,\u001B[0m \u001B[0;34m'inline'\u001B[0m\u001B[0;34m)\u001B[0m\u001B[0;34m\u001B[0m\u001B[0;34m\u001B[0m\u001B[0m\n\u001B[0;32m----> 2\u001B[0;31m \u001B[0;32mfrom\u001B[0m \u001B[0mnetworkx\u001B[0m\u001B[0;34m.\u001B[0m\u001B[0mdrawing\u001B[0m\u001B[0;34m.\u001B[0m\u001B[0mtests\u001B[0m\u001B[0;34m.\u001B[0m\u001B[0mtest_pylab\u001B[0m \u001B[0;32mimport\u001B[0m \u001B[0mplt\u001B[0m\u001B[0;34m\u001B[0m\u001B[0;34m\u001B[0m\u001B[0m\n\u001B[0m\u001B[1;32m      3\u001B[0m \u001B[0;32mfrom\u001B[0m \u001B[0mimageio\u001B[0m \u001B[0;32mimport\u001B[0m \u001B[0mimread\u001B[0m\u001B[0;34m\u001B[0m\u001B[0;34m\u001B[0m\u001B[0m\n\u001B[1;32m      4\u001B[0m \u001B[0;32mfrom\u001B[0m \u001B[0msklearn\u001B[0m\u001B[0;34m.\u001B[0m\u001B[0mcluster\u001B[0m \u001B[0;32mimport\u001B[0m \u001B[0mKMeans\u001B[0m\u001B[0;34m\u001B[0m\u001B[0;34m\u001B[0m\u001B[0m\n\u001B[1;32m      5\u001B[0m \u001B[0;32mfrom\u001B[0m \u001B[0msklearn\u001B[0m\u001B[0;34m.\u001B[0m\u001B[0mutils\u001B[0m \u001B[0;32mimport\u001B[0m \u001B[0mshuffle\u001B[0m\u001B[0;34m\u001B[0m\u001B[0;34m\u001B[0m\u001B[0m\n",
      "\u001B[0;32m~/Documents/shad/venv/lib/python3.8/site-packages/networkx/drawing/tests/test_pylab.py\u001B[0m in \u001B[0;36m<module>\u001B[0;34m\u001B[0m\n\u001B[1;32m      2\u001B[0m \u001B[0;32mimport\u001B[0m \u001B[0mos\u001B[0m\u001B[0;34m\u001B[0m\u001B[0;34m\u001B[0m\u001B[0m\n\u001B[1;32m      3\u001B[0m \u001B[0;32mimport\u001B[0m \u001B[0mitertools\u001B[0m\u001B[0;34m\u001B[0m\u001B[0;34m\u001B[0m\u001B[0m\n\u001B[0;32m----> 4\u001B[0;31m \u001B[0;32mimport\u001B[0m \u001B[0mpytest\u001B[0m\u001B[0;34m\u001B[0m\u001B[0;34m\u001B[0m\u001B[0m\n\u001B[0m\u001B[1;32m      5\u001B[0m \u001B[0;34m\u001B[0m\u001B[0m\n\u001B[1;32m      6\u001B[0m \u001B[0mmpl\u001B[0m \u001B[0;34m=\u001B[0m \u001B[0mpytest\u001B[0m\u001B[0;34m.\u001B[0m\u001B[0mimportorskip\u001B[0m\u001B[0;34m(\u001B[0m\u001B[0;34m\"matplotlib\"\u001B[0m\u001B[0;34m)\u001B[0m\u001B[0;34m\u001B[0m\u001B[0;34m\u001B[0m\u001B[0m\n",
      "\u001B[0;31mModuleNotFoundError\u001B[0m: No module named 'pytest'"
     ]
    }
   ],
   "source": [
    "%matplotlib inline\n",
    "from networkx.drawing.tests.test_pylab import plt\n",
    "from imageio import imread\n",
    "from sklearn.cluster import KMeans\n",
    "from sklearn.utils import shuffle\n",
    "import numpy as np\n",
    "import pandas as pd\n",
    "\n",
    "def recreate_image(codebook, labels, w, h):\n",
    "    \"\"\"Recreate the (compressed) image from the code book & labels\"\"\" \n",
    "    d = codebook.shape[1]\n",
    "    imag = np.zeros((w, h, d))\n",
    "    label_idx = 0\n",
    "    for i in range(w):\n",
    "        for j in range(h):\n",
    "            imag[i][j] = codebook[labels[label_idx]]\n",
    "            label_idx += 1\n",
    "    return imag\n",
    "\n",
    "\n",
    "image = imread('parrots.jpg')\n",
    "img = np.array(image, dtype=np.float64) / 255\n",
    "\n",
    "r, g, b = original_shape = tuple(img.shape)\n",
    "assert b == 3\n",
    "img_array = np.reshape(img, (r*g, b))\n",
    "\n",
    "img_array_sample = shuffle(img_array)[:1000]\n",
    "kmeans = KMeans (n_clusters= 15, init = 'k-means++', random_state=241).fit(img_array_sample)\n",
    "\n",
    "labels = kmeans.predict(img_array)\n",
    "\n",
    "img_pred = recreate_image(kmeans.cluster_centers_, labels,r, g)\n",
    "\n",
    "print(10 * np.log10(1.0 / np.mean((img - img_pred) ** 2)))\n",
    "\n",
    "plt.clf()\n",
    "plt.axis('off')\n",
    "plt.imshow(recreate_image(kmeans.cluster_centers_, labels, r, g))\n",
    "plt.show()\n"
   ],
   "metadata": {
    "collapsed": false,
    "pycharm": {
     "name": "#%%\n"
    }
   }
  }
 ],
 "metadata": {
  "kernelspec": {
   "name": "python3",
   "language": "python",
   "display_name": "Python 3"
  },
  "language_info": {
   "codemirror_mode": {
    "name": "ipython",
    "version": 3
   },
   "file_extension": ".py",
   "mimetype": "text/x-python",
   "name": "python",
   "nbconvert_exporter": "python",
   "pygments_lexer": "ipython3",
   "version": "3.6.9"
  }
 },
 "nbformat": 4,
 "nbformat_minor": 1
}