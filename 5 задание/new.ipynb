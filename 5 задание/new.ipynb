{
 "cells": [
  {
   "cell_type": "code",
   "execution_count": 1,
   "metadata": {
    "pycharm": {
     "name": "#%%\n",
     "is_executing": false
    }
   },
   "outputs": [],
   "source": [
    "from copy import deepcopy\n",
    "import pandas as pd\n",
    "import numpy as np\n",
    "import sklearn\n",
    "\n",
    "from sklearn.preprocessing import StandardScaler\n",
    "from sklearn.linear_model import Perceptron\n",
    "\n",
    "x_data = pd.read_csv(\"perceptron-train.csv\")\n",
    "\n",
    "y_data = pd.read_csv ('perceptron-test.csv')\n",
    "\n",
    "# print(x_data)\n"
   ]
  },
  {
   "cell_type": "code",
   "execution_count": 2,
   "outputs": [
    {
     "data": {
      "text/plain": "Perceptron(alpha=0.0001, class_weight=None, early_stopping=False, eta0=1.0,\n           fit_intercept=True, max_iter=1000, n_iter_no_change=5, n_jobs=None,\n           penalty=None, random_state=241, shuffle=True, tol=0.001,\n           validation_fraction=0.1, verbose=0, warm_start=False)"
     },
     "metadata": {},
     "output_type": "execute_result",
     "execution_count": 2
    }
   ],
   "source": [
    "clf = Perceptron(random_state=241)\n",
    "\n",
    "clf.fit(x_data.iloc[:, 1:], x_data.iloc[:, 0])"
   ],
   "metadata": {
    "collapsed": false,
    "pycharm": {
     "name": "#%%\n",
     "is_executing": false
    }
   }
  },
  {
   "cell_type": "code",
   "execution_count": 3,
   "outputs": [
    {
     "name": "stdout",
     "text": [
      "0.655\n"
     ],
     "output_type": "stream"
    }
   ],
   "source": [
    "accuracy_x = sklearn.metrics.accuracy_score(y_data.iloc[:, 0], clf.predict(y_data.iloc[:, 1:]))\n",
    "\n",
    "print (accuracy_x)"
   ],
   "metadata": {
    "collapsed": false,
    "pycharm": {
     "name": "#%%\n",
     "is_executing": false
    }
   }
  },
  {
   "cell_type": "code",
   "execution_count": 5,
   "outputs": [
    {
     "name": "stdout",
     "text": [
      "     0\n",
      "0   -1\n",
      "1    1\n",
      "2   -1\n",
      "3   -1\n",
      "4    1\n",
      "..  ..\n",
      "195 -1\n",
      "196  1\n",
      "197  1\n",
      "198 -1\n",
      "199  1\n",
      "\n",
      "[200 rows x 1 columns]      0\n",
      "0   -1\n",
      "1    1\n",
      "2   -1\n",
      "3   -1\n",
      "4    1\n",
      "..  ..\n",
      "295 -1\n",
      "296 -1\n",
      "297  1\n",
      "298  1\n",
      "299  1\n",
      "\n",
      "[300 rows x 1 columns]\n",
      "            1            2\n",
      "0    1.651437  1337.453826\n",
      "1   -0.866495  1191.232457\n",
      "2    0.789828  -475.647768\n",
      "3    0.179549  1959.095353\n",
      "4   -0.434351   568.504207\n",
      "..        ...          ...\n",
      "195  1.150206  2559.850231\n",
      "196 -0.732462   159.748695\n",
      "197  0.412912 -1587.206427\n",
      "198 -0.098685   682.034777\n",
      "199  0.760949 -1577.448794\n",
      "\n",
      "[200 rows x 2 columns]             1            2\n",
      "0   -0.024626  1174.600238\n",
      "1   -0.978058  1083.198803\n",
      "2    0.314272 -1472.977609\n",
      "3    0.179752   231.017267\n",
      "4   -1.262544  -778.271726\n",
      "..        ...          ...\n",
      "295 -0.126438  1861.564124\n",
      "296 -0.490972  1815.652064\n",
      "297 -0.375750  -314.074374\n",
      "298 -1.861976 -1083.677679\n",
      "299 -0.039329 -1863.884299\n",
      "\n",
      "[300 rows x 2 columns]\n"
     ],
     "output_type": "stream"
    }
   ],
   "source": [
    "df_train = deepcopy(x_data)\n",
    "df_test = deepcopy(y_data)\n",
    "\n",
    "df_train_val = deepcopy(x_data)\n",
    "df_test_val = deepcopy(y_data)\n",
    "\n",
    "col = ['0']\n",
    "columns = ['1', '2']\n",
    "\n",
    "df_train.drop(col, axis = 1, inplace = True, errors = 'ignore')\n",
    "df_train_val.drop(columns, axis = 1, inplace = True, errors = 'ignore')\n",
    "df_test.drop(col, axis = 1, inplace = True, errors = 'ignore')\n",
    "df_test_val.drop(columns, axis = 1, inplace = True, errors = 'ignore')\n",
    "\n",
    "print(df_test_val, df_train_val)\n",
    "\n",
    "print(df_test, df_train)"
   ],
   "metadata": {
    "collapsed": false,
    "pycharm": {
     "name": "#%%\n",
     "is_executing": false
    }
   }
  },
  {
   "cell_type": "code",
   "execution_count": 6,
   "outputs": [],
   "source": [
    "scaled = StandardScaler()\n",
    "\n",
    "df_train = scaled.fit_transform(df_train)\n",
    "df_test = scaled.transform(df_test)"
   ],
   "metadata": {
    "collapsed": false,
    "pycharm": {
     "name": "#%%\n",
     "is_executing": false
    }
   }
  },
  {
   "cell_type": "code",
   "execution_count": 8,
   "outputs": [
    {
     "name": "stdout",
     "text": [
      "0.18999999999999995\n"
     ],
     "output_type": "stream"
    },
    {
     "name": "stderr",
     "text": [
      "/home/gapo_o/Documents/shad/venv/lib/python3.6/site-packages/sklearn/utils/validation.py:744: DataConversionWarning: A column-vector y was passed when a 1d array was expected. Please change the shape of y to (n_samples, ), for example using ravel().\n",
      "  y = column_or_1d(y, warn=True)\n"
     ],
     "output_type": "stream"
    }
   ],
   "source": [
    "clf = Perceptron()\n",
    "\n",
    "clf.fit(df_train, df_train_val)\n",
    "\n",
    "accuracy_2 = sklearn.metrics.accuracy_score(df_test_val, clf.predict(df_test))\n",
    "\n",
    "print(accuracy_2 - accuracy_x)"
   ],
   "metadata": {
    "collapsed": false,
    "pycharm": {
     "name": "#%%\n",
     "is_executing": false
    }
   }
  }
 ],
 "metadata": {
  "kernelspec": {
   "display_name": "Python 3",
   "language": "python",
   "name": "python3"
  },
  "language_info": {
   "codemirror_mode": {
    "name": "ipython",
    "version": 3
   },
   "file_extension": ".py",
   "mimetype": "text/x-python",
   "name": "python",
   "nbconvert_exporter": "python",
   "pygments_lexer": "ipython3",
   "version": "3.6.9"
  },
  "pycharm": {
   "stem_cell": {
    "cell_type": "raw",
    "source": [],
    "metadata": {
     "collapsed": false
    }
   }
  }
 },
 "nbformat": 4,
 "nbformat_minor": 1
}