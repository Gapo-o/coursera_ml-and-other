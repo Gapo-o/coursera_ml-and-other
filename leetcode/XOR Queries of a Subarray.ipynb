{
 "cells": [
  {
   "cell_type": "code",
   "execution_count": 7,
   "metadata": {
    "collapsed": true,
    "pycharm": {
     "name": "#%%\n"
    }
   },
   "outputs": [
    {
     "name": "stdout",
     "output_type": "stream",
     "text": [
      "[4, 9, 16, 24]\n"
     ]
    }
   ],
   "source": [
    "arr = [1,3,4,8]\n",
    "queries = [[0,1],[1,2],[0,3],[3,3]]\n",
    "\n",
    "ans = [None] * len(queries)\n",
    "prefix_xor = [None] * (len(arr) + 1)\n",
    "\n",
    "prefix_xor[0] = 0\n",
    "for i in range(1, len(prefix_xor)):\n",
    "    prefix_xor[i] = prefix_xor[i-1] ^ arr[i-1]\n",
    "\n",
    "for i in range(len(queries)):\n",
    "    l = prefix_xor[queries[i][0]]\n",
    "    r = prefix_xor[queries[i][1] + 1]\n",
    "\n",
    "    ans[i] = l ^ r\n",
    "\n",
    "print(ans)\n",
    "\n"
   ]
  }
 ],
 "metadata": {
  "kernelspec": {
   "display_name": "Python 3",
   "language": "python",
   "name": "python3"
  },
  "language_info": {
   "codemirror_mode": {
    "name": "ipython",
    "version": 2
   },
   "file_extension": ".py",
   "mimetype": "text/x-python",
   "name": "python",
   "nbconvert_exporter": "python",
   "pygments_lexer": "ipython2",
   "version": "2.7.6"
  }
 },
 "nbformat": 4,
 "nbformat_minor": 0
}