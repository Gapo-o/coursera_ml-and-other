{
 "cells": [
  {
   "cell_type": "code",
   "execution_count": 20,
   "outputs": [
    {
     "name": "stdout",
     "output_type": "stream",
     "text": [
      "[3, 2, 2, 4, 2]\n"
     ]
    }
   ],
   "source": [
    "# MaxCounters\n",
    "\n",
    "def solution(N, A):\n",
    "\n",
    "    array = [0] * N\n",
    "    max_value = 0\n",
    "    last_max = False\n",
    "    for i in range(len(A)):\n",
    "        if A[i] < N + 1:\n",
    "            array[A[i] - 1] += 1\n",
    "            last_max = False\n",
    "            if array[A[i] - 1] > max_value:\n",
    "                max_value = array[A[i] - 1]\n",
    "        elif A[i] > N and last_max == False:\n",
    "            array = [max_value] * N\n",
    "            last_max = True\n",
    "\n",
    "    return array\n",
    "\n",
    "N = 5\n",
    "A = [3,4,4,6,1,4,4]\n",
    "print(solution(N, A))"
   ],
   "metadata": {
    "collapsed": false,
    "pycharm": {
     "name": "#%%\n"
    }
   }
  },
  {
   "cell_type": "code",
   "execution_count": 21,
   "outputs": [
    {
     "name": "stdout",
     "output_type": "stream",
     "text": [
      "0\n"
     ]
    }
   ],
   "source": [
    " # FrogRiverOne\n",
    "\n",
    "def solution(X, A):\n",
    "\n",
    "    river = [0] * X\n",
    "    counter = 0\n",
    "\n",
    "    if len(A) == 1:\n",
    "        if A[0] == X:\n",
    "            return 0\n",
    "        else:\n",
    "            return -1\n",
    "\n",
    "    for i in range(len(A)):\n",
    "        if A[i] - 1 < X and river[A[i] - 1] == 0:\n",
    "            river[A[i] - 1] = A[i]\n",
    "            counter += 1\n",
    "\n",
    "        if counter == X:\n",
    "            return i\n",
    "\n",
    "    if counter != X:\n",
    "        return -1\n",
    "\n",
    "X = 1\n",
    "A = [1]\n",
    "\n",
    "print(solution(X, A))"
   ],
   "metadata": {
    "collapsed": false,
    "pycharm": {
     "name": "#%%\n"
    }
   }
  },
  {
   "cell_type": "code",
   "execution_count": 22,
   "outputs": [
    {
     "name": "stdout",
     "output_type": "stream",
     "text": [
      "20\n"
     ]
    }
   ],
   "source": [
    " # TapeEquilibrium\n",
    "\n",
    "def solution(A):\n",
    "\n",
    "    summ = sum(A)\n",
    "\n",
    "    if len(A) == 2:\n",
    "        result = A[0] - A[1]\n",
    "        if result < 0:\n",
    "            return (-1) * result\n",
    "\n",
    "    begin_sum = 0\n",
    "    end_sum = 0\n",
    "    min_value = 0\n",
    "    for i in range(len(A) - 1):\n",
    "        if i == 0:\n",
    "            begin_sum += A[i]\n",
    "            end_sum -= A[i]\n",
    "        else:\n",
    "            begin_sum += A[i]\n",
    "            end_sum -= A[i]\n",
    "\n",
    "        tmp = begin_sum - end_sum\n",
    "        if tmp < 0:\n",
    "            tmp = (-1) * tmp\n",
    "\n",
    "        if i == 0:\n",
    "            min_value = tmp\n",
    "        elif min_value > tmp:\n",
    "            min_value = tmp\n",
    "\n",
    "    return min_value\n",
    "\n",
    "A = [-10, -20, -30, -40, 100]\n",
    "print(solution(A))"
   ],
   "metadata": {
    "collapsed": false,
    "pycharm": {
     "name": "#%%\n"
    }
   }
  },
  {
   "cell_type": "code",
   "execution_count": 23,
   "outputs": [
    {
     "name": "stdout",
     "output_type": "stream",
     "text": [
      "1\n"
     ]
    }
   ],
   "source": [
    "# PermMissingElem\n",
    "\n",
    "def solution(A):\n",
    "    A.sort()\n",
    "\n",
    "    if len(A) == 0:\n",
    "        return 1\n",
    "\n",
    "    if len(A) == 1 and A[0] == 1:\n",
    "        return 2\n",
    "\n",
    "    if len(A) and A[0] == 2:\n",
    "        return 1\n",
    "\n",
    "    for i in range(len(A)):\n",
    "        if len(A) == i + 1:\n",
    "            return A[i] + 1\n",
    "        if A[i + 1] - A[i] != 1:\n",
    "            return A[i] + 1\n",
    "\n",
    "A = [2]\n",
    "print(solution(A))"
   ],
   "metadata": {
    "collapsed": false,
    "pycharm": {
     "name": "#%%\n"
    }
   }
  },
  {
   "cell_type": "code",
   "execution_count": 24,
   "outputs": [
    {
     "name": "stdout",
     "output_type": "stream",
     "text": [
      "2\n"
     ]
    }
   ],
   "source": [
    "# FrogJmp\n",
    "\n",
    "def solution(X, Y, D):\n",
    "    if X == Y:\n",
    "        return 0\n",
    "\n",
    "    result = (Y - X) // D\n",
    "\n",
    "    if X + (D * result) >= Y:\n",
    "        return result\n",
    "    else:\n",
    "        return result + 1\n",
    "\n",
    "print(solution(1, 5, 2))"
   ],
   "metadata": {
    "collapsed": false,
    "pycharm": {
     "name": "#%%\n"
    }
   }
  },
  {
   "cell_type": "code",
   "execution_count": 25,
   "outputs": [
    {
     "name": "stdout",
     "output_type": "stream",
     "text": [
      "4\n"
     ]
    }
   ],
   "source": [
    "# OddOccurrencesInArray\n",
    "\n",
    "def solution(A):\n",
    "    A.sort()\n",
    "    tmp = 0\n",
    "    count = 0\n",
    "    if len(A) == 1:\n",
    "        return A[0]\n",
    "\n",
    "    for i in range(len(A)):\n",
    "        if i == 0:\n",
    "            tmp = A[i]\n",
    "            count += 1\n",
    "        elif tmp == A[i]:\n",
    "                count += 1\n",
    "        elif A[i] != tmp and count % 2 == 1:\n",
    "                return tmp\n",
    "        elif A[i] != tmp and count % 2 == 0:\n",
    "            count = 1\n",
    "            tmp = A[i]\n",
    "\n",
    "    return tmp\n",
    "\n",
    "A = [2, 2, 3, 3, 4]\n",
    "\n",
    "print(solution(A))"
   ],
   "metadata": {
    "collapsed": false,
    "pycharm": {
     "name": "#%%\n"
    }
   }
  },
  {
   "cell_type": "code",
   "execution_count": 26,
   "outputs": [
    {
     "name": "stdout",
     "output_type": "stream",
     "text": [
      "[2, 1]\n"
     ]
    }
   ],
   "source": [
    " # CyclicRotation\n",
    "\n",
    "def solution(A, K):\n",
    "\n",
    "    if len(A) == 0:\n",
    "        return A\n",
    "    result = A.copy()\n",
    "    if K > len(A):\n",
    "        K %= len(A)\n",
    "    for i in range(len(A)):\n",
    "        index = i + K\n",
    "        if index >= len(A):\n",
    "            index -= len(A)\n",
    "        result[index] = A[i]\n",
    "\n",
    "    return result\n",
    "\n",
    "A = [1,2]\n",
    "print(solution(A, 1))"
   ],
   "metadata": {
    "collapsed": false,
    "pycharm": {
     "name": "#%%\n"
    }
   }
  },
  {
   "cell_type": "code",
   "execution_count": 27,
   "outputs": [],
   "source": [
    "# BinaryGap\n",
    "\n",
    "def solution(N):\n",
    "\n",
    "    count = 0\n",
    "    result = 0\n",
    "    flag = False\n",
    "    while 1:\n",
    "        n = N % 2\n",
    "        N = N // 2\n",
    "\n",
    "        print(n, N)\n",
    "\n",
    "        if n == 1 and flag == False:\n",
    "            flag = True\n",
    "            count = 0\n",
    "        elif n == 1 and flag == True:\n",
    "            if result < count:\n",
    "                result = count\n",
    "                count = 0\n",
    "            else:\n",
    "                count = 0\n",
    "        elif n == 0 and flag == True:\n",
    "            count += 1\n",
    "\n",
    "        if N == 0:\n",
    "            return result"
   ],
   "metadata": {
    "collapsed": false,
    "pycharm": {
     "name": "#%%\n"
    }
   }
  },
  {
   "cell_type": "code",
   "execution_count": 27,
   "outputs": [],
   "source": [],
   "metadata": {
    "collapsed": false,
    "pycharm": {
     "name": "#%%\n"
    }
   }
  }
 ],
 "metadata": {
  "kernelspec": {
   "name": "python3",
   "language": "python",
   "display_name": "Python 3"
  },
  "language_info": {
   "codemirror_mode": {
    "name": "ipython",
    "version": 2
   },
   "file_extension": ".py",
   "mimetype": "text/x-python",
   "name": "python",
   "nbconvert_exporter": "python",
   "pygments_lexer": "ipython2",
   "version": "2.7.6"
  }
 },
 "nbformat": 4,
 "nbformat_minor": 0
}