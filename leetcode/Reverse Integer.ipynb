{
 "cells": [
  {
   "cell_type": "code",
   "execution_count": 37,
   "metadata": {
    "collapsed": true,
    "pycharm": {
     "name": "#%%\n"
    }
   },
   "outputs": [
    {
     "name": "stdout",
     "output_type": "stream",
     "text": [
      "0\n"
     ]
    }
   ],
   "source": [
    "x: int = 1534236469\n",
    "\n",
    "if x < 0:\n",
    "    mark_minus = True\n",
    "    x = -x\n",
    "    x_str = str(x)\n",
    "else:\n",
    "    mark_minus = False\n",
    "    x_str = str(x)\n",
    "\n",
    "ans = ''\n",
    "for i in range(len(x_str) - 1, -1, -1):\n",
    "    ans = ans + x_str[i]\n",
    "\n",
    "if (int(ans) < -2147483648) or (int(ans) > 2147483647):\n",
    "    print(0)\n",
    "elif mark_minus:\n",
    "    print(-int(ans))\n",
    "else:\n",
    "    print(int(ans))\n"
   ]
  }
 ],
 "metadata": {
  "kernelspec": {
   "display_name": "Python 3",
   "language": "python",
   "name": "python3"
  },
  "language_info": {
   "codemirror_mode": {
    "name": "ipython",
    "version": 2
   },
   "file_extension": ".py",
   "mimetype": "text/x-python",
   "name": "python",
   "nbconvert_exporter": "python",
   "pygments_lexer": "ipython2",
   "version": "2.7.6"
  }
 },
 "nbformat": 4,
 "nbformat_minor": 0
}