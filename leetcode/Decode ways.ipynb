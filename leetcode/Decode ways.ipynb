{
 "cells": [
  {
   "cell_type": "code",
   "execution_count": 42,
   "metadata": {
    "collapsed": true,
    "pycharm": {
     "name": "#%%\n"
    }
   },
   "outputs": [
    {
     "name": "stdout",
     "output_type": "stream",
     "text": [
      "2\n"
     ]
    }
   ],
   "source": [
    "s = \"2101\"\n",
    "\n",
    "def fibo(n):\n",
    "    sqrt5 = 5 ** (1/2)\n",
    "    phi = (sqrt5  + 1) / 2\n",
    "    return int((phi ** n) / sqrt5 + 0.5)\n",
    "\n",
    "if s[0] == \"0\":\n",
    "    print(0)\n",
    "elif len(s) == 0 or len(s) == 1:\n",
    "    print(1)\n",
    "\n",
    "x = 1\n",
    "y = []\n",
    "ans = 1\n",
    "\n",
    "for idx, value in enumerate(s):\n",
    "    if idx + 1 != len(s) and value == \"1\" :\n",
    "        if idx + 2 < len(s):\n",
    "            if s[idx + 1] != \"0\" and s[idx + 2] != \"0\":\n",
    "                x += 1\n",
    "        elif s[idx + 1] != \"0\":\n",
    "                x += 1\n",
    "\n",
    "    elif idx + 1 != len(s) and value == \"2\":\n",
    "        if s[idx + 1] < \"7\" and s[idx + 1] != \"0\":\n",
    "            if idx + 2 < len(s):\n",
    "                if s[idx + 1] and s[idx + 2] != \"0\":\n",
    "                    x += 1\n",
    "            elif s[idx + 1] != \"0\":\n",
    "                x += 1\n",
    "\n",
    "    elif idx != len(s) - 1 and value == \"0\" and s[idx + 1] == \"0\":\n",
    "        print(-1)\n",
    "        break\n",
    "\n",
    "    elif idx != len(s) - 1 and value > \"2\":\n",
    "        if idx + 1 < len(s) and s[idx + 1] == \"0\":\n",
    "            print(-1)\n",
    "            break\n",
    "        elif x > 1:\n",
    "            y.append(x + 1)\n",
    "            x = 1\n",
    "    elif idx + 1 == len(s) and (x != 1 or len(y) == 0):\n",
    "        y.append(x + 1)\n",
    "\n",
    "for idx, value in enumerate(y):\n",
    "    ans *= fibo(value)\n",
    "print(ans)\n",
    "\n",
    "\n",
    "# def count_decode(digits, n):\n",
    "#\n",
    "#     if s == \"0\":\n",
    "#         return 0\n",
    "#\n",
    "#     if n == 0 or n == 1:\n",
    "#         return 1\n",
    "#\n",
    "#     count_ = 0\n",
    "#\n",
    "#     if digits[n-1] > '0':\n",
    "#         count_ = count_decode(digits, n-1)\n",
    "#\n",
    "#     if (digits[n-2] == \"1\") or (digits[n-2] == \"2\" and digits[n-1] < '7'):\n",
    "#         count_ += count_decode(digits, n-2)\n",
    "#\n",
    "#     return count_\n",
    "#\n",
    "# count_decode(s, len(s))\n",
    "\n",
    "\n"
   ]
  }
 ],
 "metadata": {
  "kernelspec": {
   "display_name": "Python 3",
   "language": "python",
   "name": "python3"
  },
  "language_info": {
   "codemirror_mode": {
    "name": "ipython",
    "version": 2
   },
   "file_extension": ".py",
   "mimetype": "text/x-python",
   "name": "python",
   "nbconvert_exporter": "python",
   "pygments_lexer": "ipython2",
   "version": "2.7.6"
  }
 },
 "nbformat": 4,
 "nbformat_minor": 0
}