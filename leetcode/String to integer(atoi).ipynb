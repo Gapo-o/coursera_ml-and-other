{
 "cells": [
  {
   "cell_type": "code",
   "execution_count": 36,
   "metadata": {
    "collapsed": true,
    "pycharm": {
     "name": "#%%\n"
    }
   },
   "outputs": [
    {
     "name": "stdout",
     "output_type": "stream",
     "text": [
      "-123\n"
     ]
    }
   ],
   "source": [
    "n = \"-123\"\n",
    "\n",
    "word = [x for x in str(n)]\n",
    "result = []\n",
    "numbers = [\"1\", \"2\", \"3\", \"4\", \"5\", \"6\", \"7\", \"8\", \"9\", \"0\"]\n",
    "symbols = [\"-\", \"+\"]\n",
    "\n",
    "flag = 2\n",
    "for idx, value in enumerate(word):\n",
    "    if flag == 2 and len(result) == 0 and value in symbols:\n",
    "        if value == \"-\":\n",
    "            flag = 0\n",
    "        elif value == \"+\":\n",
    "            flag = 1\n",
    "    elif value in numbers:\n",
    "        result.append(int(value))\n",
    "    elif len(result) == 0 and value == \" \" and flag == 2:\n",
    "        continue\n",
    "    else:\n",
    "        break\n",
    "\n",
    "ans = 0\n",
    "for i, value in enumerate(result):\n",
    "    ans = value * (10 ** (len(result) - i - 1)) + ans\n",
    "\n",
    "if flag:\n",
    "    if ans > 2147483648:\n",
    "        print(2147483647)\n",
    "    else:\n",
    "        print(ans)\n",
    "else:\n",
    "    if -ans < -2147483648:\n",
    "        print(-2147483648)\n",
    "    else:\n",
    "        print(-ans)\n",
    "\n",
    "\n"
   ]
  }
 ],
 "metadata": {
  "kernelspec": {
   "display_name": "Python 3",
   "language": "python",
   "name": "python3"
  },
  "language_info": {
   "codemirror_mode": {
    "name": "ipython",
    "version": 2
   },
   "file_extension": ".py",
   "mimetype": "text/x-python",
   "name": "python",
   "nbconvert_exporter": "python",
   "pygments_lexer": "ipython2",
   "version": "2.7.6"
  }
 },
 "nbformat": 4,
 "nbformat_minor": 0
}