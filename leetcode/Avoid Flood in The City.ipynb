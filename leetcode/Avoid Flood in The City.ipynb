{
 "cells": [
  {
   "cell_type": "code",
   "execution_count": 24,
   "metadata": {
    "collapsed": true,
    "pycharm": {
     "name": "#%%\n"
    }
   },
   "outputs": [
    {
     "name": "stdout",
     "output_type": "stream",
     "text": [
      "[]\n"
     ]
    }
   ],
   "source": [
    "rains = [1,2,0,2,1]\n",
    "\n",
    "lakes = {}\n",
    "last_rain = {} # index последнего дождя\n",
    "zeroes = [] # index нулей\n",
    "ans = [1] * len(rains)\n",
    "\n",
    "flag = 0\n",
    "for idx, value in enumerate(rains):\n",
    "    if value == 0:\n",
    "        if len(lakes) > 0:\n",
    "            zeroes.append(idx)\n",
    "        else:\n",
    "            ans[idx] = 1\n",
    "    elif (value not in lakes) or (not lakes[value]):\n",
    "        lakes[value] = True\n",
    "        last_rain[value] = idx\n",
    "        ans[idx] = -1\n",
    "    elif lakes[value] and len(zeroes) > 0:\n",
    "        for i in range(len(zeroes)):\n",
    "            if last_rain[value] < zeroes[i] < idx:\n",
    "                flag = 0\n",
    "                ans[zeroes[i]] = value\n",
    "\n",
    "                ans[idx] = -1\n",
    "                last_rain[value] = idx\n",
    "\n",
    "                zeroes.pop(i)\n",
    "                break\n",
    "            else:\n",
    "                flag = 1\n",
    "        if flag == 1:\n",
    "            ans = []\n",
    "            break\n",
    "    else:\n",
    "        ans = []\n",
    "        break\n",
    "\n",
    "print(ans)\n",
    "\n",
    "\n",
    "\n",
    "        # lakes = {}\n",
    "        # ans = [None] * len(rains)\n",
    "        #\n",
    "        # for idx, value in enumerate(rains):\n",
    "        #     if value == 0:\n",
    "        #         for j in range(idx, len(rains)):\n",
    "        #             if rains[j] in lakes != 0 and lakes[rains[j]]:\n",
    "        #                 lakes[rains[j]] = False\n",
    "        #                 ans[idx] = rains[j]\n",
    "        #                 break\n",
    "        #         if ans[idx] is None:\n",
    "        #             ans[idx] = 1\n",
    "        #     elif value not in lakes or not lakes[value]:\n",
    "        #         lakes[value] = True\n",
    "        #         ans[idx] = -1\n",
    "        #     else:\n",
    "        #         ans = []\n",
    "        #         break\n",
    "        #\n",
    "        # return ans\n",
    "\n"
   ]
  }
 ],
 "metadata": {
  "kernelspec": {
   "display_name": "Python 3",
   "language": "python",
   "name": "python3"
  },
  "language_info": {
   "codemirror_mode": {
    "name": "ipython",
    "version": 2
   },
   "file_extension": ".py",
   "mimetype": "text/x-python",
   "name": "python",
   "nbconvert_exporter": "python",
   "pygments_lexer": "ipython2",
   "version": "2.7.6"
  }
 },
 "nbformat": 4,
 "nbformat_minor": 0
}