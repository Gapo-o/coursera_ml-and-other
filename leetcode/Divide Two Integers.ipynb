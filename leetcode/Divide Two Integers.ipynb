{
 "cells": [
  {
   "cell_type": "code",
   "execution_count": 34,
   "metadata": {
    "collapsed": true,
    "pycharm": {
     "name": "#%%\n"
    }
   },
   "outputs": [
    {
     "name": "stdout",
     "output_type": "stream",
     "text": [
      "22\n"
     ]
    }
   ],
   "source": [
    "dividend = 66\n",
    "divisor = 3\n",
    "\n",
    "from math import fabs\n",
    "positive = 0\n",
    "result = 0\n",
    "\n",
    "positive = True # -- ++\n",
    "if dividend == 0 or fabs(divisor) > fabs(dividend):\n",
    "    pass\n",
    "    # return result\n",
    "elif (dividend < 0 and divisor > 0) or (dividend > 0 and divisor < 0):\n",
    "    positive = False # +- -+\n",
    "dividend, divisor = fabs(dividend), fabs(divisor)\n",
    "\n",
    "if divisor == 1:\n",
    "    result = int(dividend)\n",
    "elif divisor == dividend:\n",
    "    result = 1\n",
    "else:\n",
    "    n = 1\n",
    "    tmp = divisor\n",
    "    while divisor <= dividend:\n",
    "        if tmp + tmp >= dividend:\n",
    "            tmp = divisor\n",
    "            n = 1\n",
    "            result += n\n",
    "            dividend -= tmp\n",
    "        else:\n",
    "            tmp += tmp\n",
    "            n += n\n",
    "            result += n\n",
    "            dividend -= tmp\n",
    "\n",
    "if positive:\n",
    "    print(min(result, 2**31 -1))\n",
    "else:\n",
    "    print(max(-result, -2**31))\n",
    "\n"
   ]
  }
 ],
 "metadata": {
  "kernelspec": {
   "display_name": "Python 3",
   "language": "python",
   "name": "python3"
  },
  "language_info": {
   "codemirror_mode": {
    "name": "ipython",
    "version": 2
   },
   "file_extension": ".py",
   "mimetype": "text/x-python",
   "name": "python",
   "nbconvert_exporter": "python",
   "pygments_lexer": "ipython2",
   "version": "2.7.6"
  }
 },
 "nbformat": 4,
 "nbformat_minor": 0
}