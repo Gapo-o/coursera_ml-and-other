{
 "cells": [
  {
   "cell_type": "code",
   "execution_count": 17,
   "outputs": [
    {
     "name": "stdout",
     "output_type": "stream",
     "text": [
      "[9, 9, 9, 9, 9, 9, 9]\n"
     ]
    }
   ],
   "source": [
    "\n",
    "def addTwoNumbers(l1, l2):\n",
    "\n",
    "    res = []\n",
    "\n",
    "    if len(l1) >= len(l2):\n",
    "        biggest = len(l1)\n",
    "        big = l1\n",
    "        small = l2\n",
    "    else:\n",
    "        big = l2\n",
    "        small = l1\n",
    "        biggest = len(l2)\n",
    "\n",
    "    flag_for_ten = False\n",
    "    for i in range(biggest):\n",
    "\n",
    "        if len(small) <= i:\n",
    "            if flag_for_ten:\n",
    "                sum_of_iter = big[i] + 1\n",
    "                flag_for_ten = False\n",
    "\n",
    "                if sum_of_iter > 9:\n",
    "                    flag_for_ten = True\n",
    "                    sum_of_iter -= 10\n",
    "                    res.append(sum_of_iter)\n",
    "                else:\n",
    "                    res.append(sum_of_iter)\n",
    "            else:\n",
    "                res.append(big[i])\n",
    "\n",
    "        else:\n",
    "            if flag_for_ten:\n",
    "                sum_of_iter = big[i] + small[i] + 1\n",
    "                flag_for_ten = False\n",
    "            else:\n",
    "                sum_of_iter = big[i] + small[i]\n",
    "\n",
    "            if sum_of_iter > 9:\n",
    "                flag_for_ten = True\n",
    "                sum_of_iter -= 10\n",
    "                res.append(sum_of_iter)\n",
    "            else:\n",
    "                res.append(sum_of_iter)\n",
    "\n",
    "    if flag_for_ten:\n",
    "       res.append(1)\n",
    "\n",
    "    return res\n",
    "\n",
    "l1 = [9,9,9,9,9,9,9]\n",
    "l2 = [9,9,9,9]\n",
    "\n",
    "print(str(l1))"
   ],
   "metadata": {
    "collapsed": false,
    "pycharm": {
     "name": "#%%\n"
    }
   }
  }
 ],
 "metadata": {
  "kernelspec": {
   "name": "python3",
   "language": "python",
   "display_name": "Python 3"
  },
  "language_info": {
   "codemirror_mode": {
    "name": "ipython",
    "version": 2
   },
   "file_extension": ".py",
   "mimetype": "text/x-python",
   "name": "python",
   "nbconvert_exporter": "python",
   "pygments_lexer": "ipython2",
   "version": "2.7.6"
  }
 },
 "nbformat": 4,
 "nbformat_minor": 0
}