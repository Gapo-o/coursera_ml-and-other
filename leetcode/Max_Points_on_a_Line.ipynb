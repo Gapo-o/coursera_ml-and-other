{
 "cells": [
  {
   "cell_type": "code",
   "execution_count": 31,
   "metadata": {
    "collapsed": true,
    "pycharm": {
     "name": "#%%\n"
    }
   },
   "outputs": [
    {
     "name": "stdout",
     "output_type": "stream",
     "text": [
      "[3, 3] [1, 4]\n",
      "[-1, -2, 9]\n",
      "---------------\n",
      "[3, 3] [1, 1]\n",
      "[2, -2, 0]\n",
      "---------------\n",
      "[3, 3] [2, 1]\n",
      "[2, -1, -3]\n",
      "---------------\n",
      "[3, 3] [2, 2]\n",
      "[1, -1, 0]\n",
      "---------------\n",
      "[1, 4] [1, 1]\n",
      "[3, 0, -3]\n",
      "---------------\n",
      "[1, 4] [2, 1]\n",
      "[3, 1, -7]\n",
      "---------------\n",
      "[1, 4] [2, 2]\n",
      "[2, 1, -6]\n",
      "---------------\n",
      "[1, 1] [2, 1]\n",
      "[0, 1, -1]\n",
      "---------------\n",
      "[1, 1] [2, 2]\n",
      "[-1, 1, 0]\n",
      "---------------\n",
      "[2, 1] [2, 2]\n",
      "[-1, 0, 2]\n",
      "---------------\n",
      "3\n"
     ]
    }
   ],
   "source": [
    "points = [[3,3],[1,4],[1,1],[2,1],[2,2]]\n",
    "functions = []\n",
    "count_points_on_line = 0\n",
    "\n",
    "def find_equation(first_point, second_point):\n",
    "    parameters = [0] * 3\n",
    "    parameters[0] = first_point[1] - second_point[1] # A\n",
    "    parameters[1] = second_point[0] - first_point[0] # B\n",
    "    parameters[2] = first_point[0] * second_point[1] - second_point[0] * first_point[1]\n",
    "    return parameters\n",
    "\n",
    "\n",
    "def find_points_on_line(parameters, points_arr):\n",
    "    count_points = 0\n",
    "    for i in range(len(points_arr)):\n",
    "        check =  parameters[0] * points_arr[i][0] + parameters[1] * points[i][1] + parameters[2]\n",
    "        if check == 0:\n",
    "            count_points += 1\n",
    "    return count_points\n",
    "\n",
    "\n",
    "if len(points) < 3:\n",
    "    print(len(points))\n",
    "\n",
    "counter = 0\n",
    "for idx in range(len(points) - 1):\n",
    "    for idj in range(idx + 1, len(points)):\n",
    "        params = find_equation(points[idx], points[idj])\n",
    "        if params not in functions:\n",
    "            functions.append(params)\n",
    "            n = find_points_on_line(params, points)\n",
    "            if counter < n:\n",
    "                counter = n\n",
    "\n",
    "print(counter)\n"
   ]
  }
 ],
 "metadata": {
  "kernelspec": {
   "display_name": "Python 3",
   "language": "python",
   "name": "python3"
  },
  "language_info": {
   "codemirror_mode": {
    "name": "ipython",
    "version": 2
   },
   "file_extension": ".py",
   "mimetype": "text/x-python",
   "name": "python",
   "nbconvert_exporter": "python",
   "pygments_lexer": "ipython2",
   "version": "2.7.6"
  }
 },
 "nbformat": 4,
 "nbformat_minor": 0
}