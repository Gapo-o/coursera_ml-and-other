{
 "cells": [
  {
   "cell_type": "code",
   "execution_count": 1,
   "outputs": [],
   "source": [
    "import math\n",
    "import numpy as np\n",
    "import pandas as pd\n",
    "from copy import deepcopy\n",
    "from sklearn.metrics import log_loss\n",
    "from sklearn.ensemble import GradientBoostingClassifier, RandomForestClassifier\n",
    "from sklearn.model_selection import train_test_split\n",
    "from sklearn.svm._libsvm import predict_proba\n",
    "\n",
    "df = pd.read_csv('gbm-data.csv')\n",
    "\n",
    "X = df.values[:, 1:]\n",
    "y = df.values[:, :1]\n",
    "\n",
    "x_train, x_test, y_train, y_test =  train_test_split(X, y, test_size=0.8, random_state=241)\n",
    "\n",
    "# x_train, x_test, y_train, y_test =  model_selection.train_test_split(df.iloc[:, 1:1776].values, \n",
    "#                                                                      df.iloc[:, :1].values, \n",
    "#                                                                      train_size=0.8, \n",
    "#                                                                      random_state=241)\n"
   ],
   "metadata": {
    "collapsed": false,
    "pycharm": {
     "name": "#%%\n"
    }
   }
  },
  {
   "cell_type": "code",
   "execution_count": 2,
   "outputs": [
    {
     "name": "stderr",
     "output_type": "stream",
     "text": [
      "/home/gapo_o/Documents/shad/venv/lib/python3.8/site-packages/sklearn/utils/validation.py:73: DataConversionWarning: A column-vector y was passed when a 1d array was expected. Please change the shape of y to (n_samples, ), for example using ravel().\n",
      "  return f(**kwargs)\n",
      "/home/gapo_o/Documents/shad/venv/lib/python3.8/site-packages/sklearn/utils/validation.py:73: DataConversionWarning: A column-vector y was passed when a 1d array was expected. Please change the shape of y to (n_samples, ), for example using ravel().\n",
      "  return f(**kwargs)\n",
      "/home/gapo_o/Documents/shad/venv/lib/python3.8/site-packages/sklearn/utils/validation.py:73: DataConversionWarning: A column-vector y was passed when a 1d array was expected. Please change the shape of y to (n_samples, ), for example using ravel().\n",
      "  return f(**kwargs)\n",
      "/home/gapo_o/Documents/shad/venv/lib/python3.8/site-packages/sklearn/utils/validation.py:73: DataConversionWarning: A column-vector y was passed when a 1d array was expected. Please change the shape of y to (n_samples, ), for example using ravel().\n",
      "  return f(**kwargs)\n",
      "/home/gapo_o/Documents/shad/venv/lib/python3.8/site-packages/sklearn/utils/validation.py:73: DataConversionWarning: A column-vector y was passed when a 1d array was expected. Please change the shape of y to (n_samples, ), for example using ravel().\n",
      "  return f(**kwargs)\n"
     ]
    },
    {
     "name": "stdout",
     "output_type": "stream",
     "text": [
      "      Iter       Train Loss   Remaining Time \n",
      "         1           1.0190            8.71s\n",
      "         2           0.9192            8.00s\n",
      "         3           0.8272            7.87s\n",
      "         4           0.7834            7.68s\n",
      "         5           0.7109            7.67s\n",
      "         6           0.6368            7.65s\n",
      "         7           0.5797            7.72s\n",
      "         8           0.5610            7.84s\n",
      "         9           0.5185            7.75s\n",
      "        10           0.4984            7.69s\n",
      "        20           0.1999            7.20s\n",
      "        30           0.1313            7.08s\n",
      "        40           0.0790            6.87s\n",
      "        50           0.0511            6.54s\n",
      "        60           0.0352            6.21s\n",
      "        70           0.0245            6.00s\n",
      "        80           0.0162            5.75s\n",
      "        90           0.0114            5.41s\n",
      "       100           0.0077            5.06s\n",
      "       200           0.0002            1.66s\n",
      "1\n",
      "0.58\n",
      "0\n",
      "      Iter       Train Loss   Remaining Time \n",
      "         1           1.1255            7.43s\n",
      "         2           1.0035            7.26s\n",
      "         3           0.9386            7.37s\n",
      "         4           0.8844            7.37s\n",
      "         5           0.8381            7.31s\n",
      "         6           0.7995            7.25s\n",
      "         7           0.7559            7.30s\n",
      "         8           0.7205            7.56s\n",
      "         9           0.6958            8.02s\n",
      "        10           0.6725            8.29s\n",
      "        20           0.4672            7.92s\n",
      "        30           0.3179            7.45s\n",
      "        40           0.2274            7.10s\n",
      "        50           0.1774            6.73s\n",
      "        60           0.1394            6.32s\n",
      "        70           0.1050            5.97s\n",
      "        80           0.0805            5.63s\n",
      "        90           0.0650            5.31s\n",
      "       100           0.0511            5.05s\n",
      "       200           0.0058            1.66s\n",
      "0.5\n",
      "0.56\n",
      "6\n",
      "      Iter       Train Loss   Remaining Time \n",
      "         1           1.2095            7.49s\n",
      "         2           1.1006            7.39s\n",
      "         3           1.0240            7.55s\n",
      "         4           0.9729            7.60s\n",
      "         5           0.9387            7.76s\n",
      "         6           0.8948            7.87s\n",
      "         7           0.8621            7.96s\n",
      "         8           0.8360            7.92s\n",
      "         9           0.8171            7.95s\n",
      "        10           0.7883            7.87s\n",
      "        20           0.6029            7.60s\n",
      "        30           0.4760            7.47s\n",
      "        40           0.3879            6.98s\n",
      "        50           0.3325            6.72s\n",
      "        60           0.2759            6.33s\n",
      "        70           0.2304            5.93s\n",
      "        80           0.1969            5.62s\n",
      "        90           0.1718            5.27s\n",
      "       100           0.1404            4.91s\n",
      "       200           0.0358            1.65s\n",
      "0.3\n",
      "0.54\n",
      "10\n",
      "      Iter       Train Loss   Remaining Time \n",
      "         1           1.2613            7.59s\n",
      "         2           1.1715            7.62s\n",
      "         3           1.1009            7.77s\n",
      "         4           1.0529            7.73s\n",
      "         5           1.0130            7.69s\n",
      "         6           0.9740            7.58s\n",
      "         7           0.9475            7.55s\n",
      "         8           0.9197            7.61s\n",
      "         9           0.8979            7.60s\n",
      "        10           0.8730            7.58s\n",
      "        20           0.7207            7.56s\n",
      "        30           0.6055            7.15s\n",
      "        40           0.5244            6.80s\n",
      "        50           0.4501            6.48s\n",
      "        60           0.3908            6.19s\n",
      "        70           0.3372            5.85s\n",
      "        80           0.3009            5.49s\n",
      "        90           0.2603            5.16s\n",
      "       100           0.2327            4.84s\n",
      "       200           0.0835            1.64s\n",
      "0.2\n",
      "0.53\n",
      "36\n",
      "max_iter =  249\n",
      "      Iter       Train Loss   Remaining Time \n",
      "         1           1.3199            7.02s\n",
      "         2           1.2645            6.96s\n",
      "         3           1.2170            6.92s\n",
      "         4           1.1775            6.91s\n",
      "         5           1.1404            6.89s\n",
      "         6           1.1106            6.86s\n",
      "         7           1.0844            6.85s\n",
      "         8           1.0617            6.95s\n",
      "         9           1.0411            7.02s\n",
      "        10           1.0223            6.97s\n",
      "        20           0.8864            6.65s\n",
      "        30           0.7844            6.34s\n",
      "        40           0.7176            6.07s\n",
      "        50           0.6590            5.79s\n",
      "        60           0.6120            5.49s\n",
      "        70           0.5599            5.19s\n",
      "        80           0.5242            4.92s\n",
      "        90           0.4829            4.69s\n",
      "       100           0.4473            4.39s\n",
      "       200           0.2379            1.47s\n",
      "0.1\n",
      "0.53\n",
      "51\n"
     ]
    }
   ],
   "source": [
    "lr = [1, 0.5, 0.3, 0.2, 0.1]\n",
    "for index in range(len(lr)):\n",
    "    \n",
    "    clf = GradientBoostingClassifier(n_estimators=250, verbose=True, random_state=241, learning_rate=lr[index])\n",
    "    clf.fit (x_train, y_train)\n",
    "    \n",
    "    test_loss = np.empty(250)\n",
    "    \n",
    "    print(lr[index])\n",
    "    for i, y_pred in enumerate(clf.staged_decision_function(x_test)):\n",
    "        predicted = 1.0/ (1.0 + np.exp(-y_pred))\n",
    "        test_loss[i] = log_loss(y_test, predicted)   \n",
    "    \n",
    "    print (round(test_loss.min(), 2))\n",
    "    print (test_loss.argmin())\n",
    "    if (lr[index] == 0.2):\n",
    "        max_iter = test_loss.argmax()\n",
    "        print ('max_iter = ', max_iter)"
   ],
   "metadata": {
    "collapsed": false,
    "pycharm": {
     "name": "#%%\n"
    }
   }
  },
  {
   "cell_type": "code",
   "execution_count": 3,
   "outputs": [
    {
     "name": "stdout",
     "output_type": "stream",
     "text": [
      "0.54\n"
     ]
    },
    {
     "name": "stderr",
     "output_type": "stream",
     "text": [
      "<ipython-input-3-37cdd8ee71e3>:2: DataConversionWarning: A column-vector y was passed when a 1d array was expected. Please change the shape of y to (n_samples,), for example using ravel().\n",
      "  rfc.fit(x_train, y_train)\n"
     ]
    }
   ],
   "source": [
    "    \n",
    "rfc = RandomForestClassifier(n_estimators=36, random_state=241)\n",
    "rfc.fit(x_train, y_train)\n",
    "\n",
    "predicted_ = rfc.predict_proba(x_test)\n",
    "otv = log_loss(y_test, predicted_)\n",
    "\n",
    "print(round(otv,2))\n"
   ],
   "metadata": {
    "collapsed": false,
    "pycharm": {
     "name": "#%%\n"
    }
   }
  }
 ],
 "metadata": {
  "kernelspec": {
   "name": "python3",
   "language": "python",
   "display_name": "Python 3"
  },
  "language_info": {
   "codemirror_mode": {
    "name": "ipython",
    "version": 3
   },
   "file_extension": ".py",
   "mimetype": "text/x-python",
   "name": "python",
   "nbconvert_exporter": "python",
   "pygments_lexer": "ipython3",
   "version": "3.6.9"
  },
  "pycharm": {
   "stem_cell": {
    "cell_type": "raw",
    "source": [],
    "metadata": {
     "collapsed": false
    }
   }
  }
 },
 "nbformat": 4,
 "nbformat_minor": 1
}